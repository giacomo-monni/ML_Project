{
  "nbformat": 4,
  "nbformat_minor": 0,
  "metadata": {
    "colab": {
      "provenance": [],
      "authorship_tag": "ABX9TyM/EWNiQDIWz5P8Ternne0J",
      "include_colab_link": true
    },
    "kernelspec": {
      "name": "python3",
      "display_name": "Python 3"
    },
    "language_info": {
      "name": "python"
    }
  },
  "cells": [
    {
      "cell_type": "markdown",
      "metadata": {
        "id": "view-in-github",
        "colab_type": "text"
      },
      "source": [
        "<a href=\"https://colab.research.google.com/github/giacomo-monni/ML_Project/blob/main/ML_Project.ipynb\" target=\"_parent\"><img src=\"https://colab.research.google.com/assets/colab-badge.svg\" alt=\"Open In Colab\"/></a>"
      ]
    },
    {
      "cell_type": "markdown",
      "source": [
        "# Imports\n",
        "\n",
        "Importing necessary Python packages to process the data."
      ],
      "metadata": {
        "id": "bF5qhPlWvMiq"
      }
    },
    {
      "cell_type": "code",
      "source": [
        "import os\n",
        "import numpy as np\n",
        "import pandas as pd\n",
        "import matplotlib.pyplot as plt"
      ],
      "metadata": {
        "id": "rmRUluBqvKpp"
      },
      "execution_count": 1,
      "outputs": []
    },
    {
      "cell_type": "code",
      "source": [
        "from pydrive2.auth import GoogleAuth\n",
        "from pydrive2.drive import GoogleDrive\n",
        "from google.colab import auth\n",
        "from oauth2client.client import GoogleCredentials"
      ],
      "metadata": {
        "id": "QsWI8vALZ1TG"
      },
      "execution_count": 2,
      "outputs": []
    },
    {
      "cell_type": "markdown",
      "source": [
        "# Loading the Dataset\n",
        "The Malicious URL's Dataset is composed of:\n",
        "- Benign/safe URLs\n",
        "- Defacement URLs\n",
        "- Phishing URLs\n",
        "- Malware URLs\n",
        "\n",
        "The dataset (downloaded from https://www.kaggle.com/datasets/naveenbhadouria/malicious/code) has been stored into my Google Drive.\n",
        "\n",
        "In order to obtain the file, the PyDrive2 package has been used: it allows to authenticate to Google Drive and obtain the file starting from its ID.\n",
        "\n"
      ],
      "metadata": {
        "id": "0XUplESNXiSm"
      }
    },
    {
      "cell_type": "code",
      "source": [
        "auth.authenticate_user()\n",
        "gauth = GoogleAuth()\n",
        "gauth.credentials = GoogleCredentials.get_application_default()\n",
        "drive = GoogleDrive(gauth)"
      ],
      "metadata": {
        "id": "C_i7AS0sXhWB"
      },
      "execution_count": 3,
      "outputs": []
    },
    {
      "cell_type": "code",
      "source": [
        "# File ID on Google Drive\n",
        "file_id = '1iBTfKOyuwL-S-bkLKkjmCgdAih9XCxSR'\n",
        "\n",
        "# Obtaining the file with the specified ID\n",
        "# and downloading the file to a local path\n",
        "drive_file = drive.CreateFile({'id': file_id})\n",
        "drive_file.GetContentFile('malicious_phish1.csv')\n",
        "\n",
        "# Reading the .csv file\n",
        "df = pd.read_csv('malicious_phish1.csv')\n",
        "print(df.head())"
      ],
      "metadata": {
        "colab": {
          "base_uri": "https://localhost:8080/"
        },
        "id": "gJORKkLrfiFU",
        "outputId": "0d62c4bf-da14-46a3-ebd0-a284824bbbd8"
      },
      "execution_count": 4,
      "outputs": [
        {
          "output_type": "stream",
          "name": "stdout",
          "text": [
            "                                                 url        type\n",
            "0                                   br-icloud.com.br    phishing\n",
            "1                mp3raid.com/music/krizz_kaliko.html      benign\n",
            "2                    bopsecrets.org/rexroth/cr/1.htm      benign\n",
            "3  http://www.garage-pirenne.be/index.php?option=...  defacement\n",
            "4  http://adventure-nicaragua.net/index.php?optio...  defacement\n"
          ]
        }
      ]
    }
  ]
}